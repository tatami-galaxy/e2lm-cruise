{
 "cells": [
  {
   "cell_type": "markdown",
   "metadata": {
    "id": "5Dqn8TxFDGYQ"
   },
   "source": [
    "# 3- Reproduce evaluation baseline on custom task"
   ]
  },
  {
   "cell_type": "markdown",
   "metadata": {
    "id": "v4UsBYiBDOPt"
   },
   "source": [
    "In the previous notebook, you have seen how to evaluate a checkpoint using the lm-evaluation-harness package on public benchmark like Hellaswag.\n",
    "\n",
    "In this notebook, we will reproduce the baseline evaluation on our variant of MMLU that is reported in the paper."
   ]
  },
  {
   "cell_type": "markdown",
   "metadata": {
    "id": "w_FASb86KMkb"
   },
   "source": [
    "## Install our fork of `lm-evaluation-harness`"
   ]
  },
  {
   "cell_type": "markdown",
   "metadata": {
    "id": "KJbABxMWE6Zt"
   },
   "source": [
    "Since this variant of MMLU has not been integrated to the public lm-evaluation-harness yet, we will have to install it from our fork at: https://github.com/tiiuae/lm-evaluation-harness-competition.git\n",
    "\n",
    "For the purpose of this competition, you would also develop a custom benchmark on your custom fork of `lm-evals` and thus will need to install it directly from git as well.\n"
   ]
  },
  {
   "cell_type": "code",
   "execution_count": null,
   "metadata": {
    "colab": {
     "base_uri": "https://localhost:8080/"
    },
    "id": "LhdXch9dAPxv",
    "outputId": "daf2ff39-98f5-41db-fc2b-eb1fb82e5724"
   },
   "outputs": [
    {
     "name": "stdout",
     "output_type": "stream",
     "text": [
      "  Installing build dependencies ... \u001b[?25l\u001b[?25hdone\n",
      "  Getting requirements to build wheel ... \u001b[?25l\u001b[?25hdone\n",
      "  Preparing metadata (pyproject.toml) ... \u001b[?25l\u001b[?25hdone\n"
     ]
    }
   ],
   "source": [
    "!pip install -U accelerate git+https://github.com/tiiuae/lm-evaluation-harness-competition.git transformers -q"
   ]
  },
  {
   "cell_type": "markdown",
   "metadata": {
    "id": "ViETN9d0FOo2"
   },
   "source": [
    "Let list all the available tasks to make sure the version is install correctly."
   ]
  },
  {
   "cell_type": "code",
   "execution_count": null,
   "metadata": {
    "colab": {
     "base_uri": "https://localhost:8080/"
    },
    "id": "DtcoBHLeAvB4",
    "outputId": "60fad55c-1f14-4687-c911-d1acbe71e30c",
    "scrolled": true
   },
   "outputs": [
    {
     "name": "stdout",
     "output_type": "stream",
     "text": [
      "2025-06-27 08:27:46.151817: E external/local_xla/xla/stream_executor/cuda/cuda_fft.cc:477] Unable to register cuFFT factory: Attempting to register factory for plugin cuFFT when one has already been registered\n",
      "WARNING: All log messages before absl::InitializeLog() is called are written to STDERR\n",
      "E0000 00:00:1751012866.172385    4758 cuda_dnn.cc:8310] Unable to register cuDNN factory: Attempting to register factory for plugin cuDNN when one has already been registered\n",
      "E0000 00:00:1751012866.178876    4758 cuda_blas.cc:1418] Unable to register cuBLAS factory: Attempting to register factory for plugin cuBLAS when one has already been registered\n",
      "2025-06-27 08:27:46.198923: I tensorflow/core/platform/cpu_feature_guard.cc:210] This TensorFlow binary is optimized to use available CPU instructions in performance-critical operations.\n",
      "To enable the following instructions: AVX2 FMA, in other operations, rebuild TensorFlow with the appropriate compiler flags.\n",
      "|mmlu_var5shots                                  |lm_eval/tasks/mmlu/var5shots/_mmlu.yaml                                                                                                      |\n",
      "|mmlu_var5shots_humanities                       |\n",
      "|mmlu_var5shots_other                            |\n",
      "|mmlu_var5shots_social_sciences                  |\n",
      "|mmlu_var5shots_stem                             |\n",
      "|mmlu_var5shots_abstract_algebra                                                       |lm_eval/tasks/mmlu/var5shots/mmlu_abstract_algebra.yaml                                                                                                         |multiple_choice      |\n",
      "|mmlu_var5shots_anatomy                                                                |lm_eval/tasks/mmlu/var5shots/mmlu_anatomy.yaml                                                                                                                  |multiple_choice      |\n",
      "|mmlu_var5shots_astronomy                                                              |lm_eval/tasks/mmlu/var5shots/mmlu_astronomy.yaml                                                                                                                |multiple_choice      |\n",
      "|mmlu_var5shots_business_ethics                                                        |lm_eval/tasks/mmlu/var5shots/mmlu_business_ethics.yaml                                                                                                          |multiple_choice      |\n",
      "|mmlu_var5shots_clinical_knowledge                                                     |lm_eval/tasks/mmlu/var5shots/mmlu_clinical_knowledge.yaml                                                                                                       |multiple_choice      |\n",
      "|mmlu_var5shots_college_biology                                                        |lm_eval/tasks/mmlu/var5shots/mmlu_college_biology.yaml                                                                                                          |multiple_choice      |\n",
      "|mmlu_var5shots_college_chemistry                                                      |lm_eval/tasks/mmlu/var5shots/mmlu_college_chemistry.yaml                                                                                                        |multiple_choice      |\n",
      "|mmlu_var5shots_college_computer_science                                               |lm_eval/tasks/mmlu/var5shots/mmlu_college_computer_science.yaml                                                                                                 |multiple_choice      |\n",
      "|mmlu_var5shots_college_mathematics                                                    |lm_eval/tasks/mmlu/var5shots/mmlu_college_mathematics.yaml                                                                                                      |multiple_choice      |\n",
      "|mmlu_var5shots_college_medicine                                                       |lm_eval/tasks/mmlu/var5shots/mmlu_college_medicine.yaml                                                                                                         |multiple_choice      |\n",
      "|mmlu_var5shots_college_physics                                                        |lm_eval/tasks/mmlu/var5shots/mmlu_college_physics.yaml                                                                                                          |multiple_choice      |\n",
      "|mmlu_var5shots_computer_security                                                      |lm_eval/tasks/mmlu/var5shots/mmlu_computer_security.yaml                                                                                                        |multiple_choice      |\n",
      "|mmlu_var5shots_conceptual_physics                                                     |lm_eval/tasks/mmlu/var5shots/mmlu_conceptual_physics.yaml                                                                                                       |multiple_choice      |\n",
      "|mmlu_var5shots_econometrics                                                           |lm_eval/tasks/mmlu/var5shots/mmlu_econometrics.yaml                                                                                                             |multiple_choice      |\n",
      "|mmlu_var5shots_electrical_engineering                                                 |lm_eval/tasks/mmlu/var5shots/mmlu_electrical_engineering.yaml                                                                                                   |multiple_choice      |\n",
      "|mmlu_var5shots_elementary_mathematics                                                 |lm_eval/tasks/mmlu/var5shots/mmlu_elementary_mathematics.yaml                                                                                                   |multiple_choice      |\n",
      "|mmlu_var5shots_formal_logic                                                           |lm_eval/tasks/mmlu/var5shots/mmlu_formal_logic.yaml                                                                                                             |multiple_choice      |\n",
      "|mmlu_var5shots_global_facts                                                           |lm_eval/tasks/mmlu/var5shots/mmlu_global_facts.yaml                                                                                                             |multiple_choice      |\n",
      "|mmlu_var5shots_high_school_biology                                                    |lm_eval/tasks/mmlu/var5shots/mmlu_high_school_biology.yaml                                                                                                      |multiple_choice      |\n",
      "|mmlu_var5shots_high_school_chemistry                                                  |lm_eval/tasks/mmlu/var5shots/mmlu_high_school_chemistry.yaml                                                                                                    |multiple_choice      |\n",
      "|mmlu_var5shots_high_school_computer_science                                           |lm_eval/tasks/mmlu/var5shots/mmlu_high_school_computer_science.yaml                                                                                             |multiple_choice      |\n",
      "|mmlu_var5shots_high_school_european_history                                           |lm_eval/tasks/mmlu/var5shots/mmlu_high_school_european_history.yaml                                                                                             |multiple_choice      |\n",
      "|mmlu_var5shots_high_school_geography                                                  |lm_eval/tasks/mmlu/var5shots/mmlu_high_school_geography.yaml                                                                                                    |multiple_choice      |\n",
      "|mmlu_var5shots_high_school_government_and_politics                                    |lm_eval/tasks/mmlu/var5shots/mmlu_high_school_government_and_politics.yaml                                                                                      |multiple_choice      |\n",
      "|mmlu_var5shots_high_school_macroeconomics                                             |lm_eval/tasks/mmlu/var5shots/mmlu_high_school_macroeconomics.yaml                                                                                               |multiple_choice      |\n",
      "|mmlu_var5shots_high_school_mathematics                                                |lm_eval/tasks/mmlu/var5shots/mmlu_high_school_mathematics.yaml                                                                                                  |multiple_choice      |\n",
      "|mmlu_var5shots_high_school_microeconomics                                             |lm_eval/tasks/mmlu/var5shots/mmlu_high_school_microeconomics.yaml                                                                                               |multiple_choice      |\n",
      "|mmlu_var5shots_high_school_physics                                                    |lm_eval/tasks/mmlu/var5shots/mmlu_high_school_physics.yaml                                                                                                      |multiple_choice      |\n",
      "|mmlu_var5shots_high_school_psychology                                                 |lm_eval/tasks/mmlu/var5shots/mmlu_high_school_psychology.yaml                                                                                                   |multiple_choice      |\n",
      "|mmlu_var5shots_high_school_statistics                                                 |lm_eval/tasks/mmlu/var5shots/mmlu_high_school_statistics.yaml                                                                                                   |multiple_choice      |\n",
      "|mmlu_var5shots_high_school_us_history                                                 |lm_eval/tasks/mmlu/var5shots/mmlu_high_school_us_history.yaml                                                                                                   |multiple_choice      |\n",
      "|mmlu_var5shots_high_school_world_history                                              |lm_eval/tasks/mmlu/var5shots/mmlu_high_school_world_history.yaml                                                                                                |multiple_choice      |\n",
      "|mmlu_var5shots_human_aging                                                            |lm_eval/tasks/mmlu/var5shots/mmlu_human_aging.yaml                                                                                                              |multiple_choice      |\n",
      "|mmlu_var5shots_human_sexuality                                                        |lm_eval/tasks/mmlu/var5shots/mmlu_human_sexuality.yaml                                                                                                          |multiple_choice      |\n",
      "|mmlu_var5shots_international_law                                                      |lm_eval/tasks/mmlu/var5shots/mmlu_international_law.yaml                                                                                                        |multiple_choice      |\n",
      "|mmlu_var5shots_jurisprudence                                                          |lm_eval/tasks/mmlu/var5shots/mmlu_jurisprudence.yaml                                                                                                            |multiple_choice      |\n",
      "|mmlu_var5shots_logical_fallacies                                                      |lm_eval/tasks/mmlu/var5shots/mmlu_logical_fallacies.yaml                                                                                                        |multiple_choice      |\n",
      "|mmlu_var5shots_machine_learning                                                       |lm_eval/tasks/mmlu/var5shots/mmlu_machine_learning.yaml                                                                                                         |multiple_choice      |\n",
      "|mmlu_var5shots_management                                                             |lm_eval/tasks/mmlu/var5shots/mmlu_management.yaml                                                                                                               |multiple_choice      |\n",
      "|mmlu_var5shots_marketing                                                              |lm_eval/tasks/mmlu/var5shots/mmlu_marketing.yaml                                                                                                                |multiple_choice      |\n",
      "|mmlu_var5shots_medical_genetics                                                       |lm_eval/tasks/mmlu/var5shots/mmlu_medical_genetics.yaml                                                                                                         |multiple_choice      |\n",
      "|mmlu_var5shots_miscellaneous                                                          |lm_eval/tasks/mmlu/var5shots/mmlu_miscellaneous.yaml                                                                                                            |multiple_choice      |\n",
      "|mmlu_var5shots_moral_disputes                                                         |lm_eval/tasks/mmlu/var5shots/mmlu_moral_disputes.yaml                                                                                                           |multiple_choice      |\n",
      "|mmlu_var5shots_moral_scenarios                                                        |lm_eval/tasks/mmlu/var5shots/mmlu_moral_scenarios.yaml                                                                                                          |multiple_choice      |\n",
      "|mmlu_var5shots_nutrition                                                              |lm_eval/tasks/mmlu/var5shots/mmlu_nutrition.yaml                                                                                                                |multiple_choice      |\n",
      "|mmlu_var5shots_philosophy                                                             |lm_eval/tasks/mmlu/var5shots/mmlu_philosophy.yaml                                                                                                               |multiple_choice      |\n",
      "|mmlu_var5shots_prehistory                                                             |lm_eval/tasks/mmlu/var5shots/mmlu_prehistory.yaml                                                                                                               |multiple_choice      |\n",
      "|mmlu_var5shots_professional_accounting                                                |lm_eval/tasks/mmlu/var5shots/mmlu_professional_accounting.yaml                                                                                                  |multiple_choice      |\n",
      "|mmlu_var5shots_professional_law                                                       |lm_eval/tasks/mmlu/var5shots/mmlu_professional_law.yaml                                                                                                         |multiple_choice      |\n",
      "|mmlu_var5shots_professional_medicine                                                  |lm_eval/tasks/mmlu/var5shots/mmlu_professional_medicine.yaml                                                                                                    |multiple_choice      |\n",
      "|mmlu_var5shots_professional_psychology                                                |lm_eval/tasks/mmlu/var5shots/mmlu_professional_psychology.yaml                                                                                                  |multiple_choice      |\n",
      "|mmlu_var5shots_public_relations                                                       |lm_eval/tasks/mmlu/var5shots/mmlu_public_relations.yaml                                                                                                         |multiple_choice      |\n",
      "|mmlu_var5shots_security_studies                                                       |lm_eval/tasks/mmlu/var5shots/mmlu_security_studies.yaml                                                                                                         |multiple_choice      |\n",
      "|mmlu_var5shots_sociology                                                              |lm_eval/tasks/mmlu/var5shots/mmlu_sociology.yaml                                                                                                                |multiple_choice      |\n",
      "|mmlu_var5shots_us_foreign_policy                                                      |lm_eval/tasks/mmlu/var5shots/mmlu_us_foreign_policy.yaml                                                                                                        |multiple_choice      |\n",
      "|mmlu_var5shots_virology                                                               |lm_eval/tasks/mmlu/var5shots/mmlu_virology.yaml                                                                                                                 |multiple_choice      |\n",
      "|mmlu_var5shots_world_religions                                                        |lm_eval/tasks/mmlu/var5shots/mmlu_world_religions.yaml                                                                                                          |multiple_choice      |\n"
     ]
    }
   ],
   "source": [
    "!lm-eval --tasks list | grep mmlu_var5shots"
   ]
  },
  {
   "cell_type": "code",
   "execution_count": null,
   "metadata": {
    "colab": {
     "base_uri": "https://localhost:8080/"
    },
    "id": "uSo__tb8DDW5",
    "outputId": "4eebd330-9ba4-4442-cc90-bb9e1a3b30c5"
   },
   "outputs": [
    {
     "name": "stdout",
     "output_type": "stream",
     "text": [
      "\n",
      "    _|    _|  _|    _|    _|_|_|    _|_|_|  _|_|_|  _|      _|    _|_|_|      _|_|_|_|    _|_|      _|_|_|  _|_|_|_|\n",
      "    _|    _|  _|    _|  _|        _|          _|    _|_|    _|  _|            _|        _|    _|  _|        _|\n",
      "    _|_|_|_|  _|    _|  _|  _|_|  _|  _|_|    _|    _|  _|  _|  _|  _|_|      _|_|_|    _|_|_|_|  _|        _|_|_|\n",
      "    _|    _|  _|    _|  _|    _|  _|    _|    _|    _|    _|_|  _|    _|      _|        _|    _|  _|        _|\n",
      "    _|    _|    _|_|      _|_|_|    _|_|_|  _|_|_|  _|      _|    _|_|_|      _|        _|    _|    _|_|_|  _|_|_|_|\n",
      "\n",
      "    A token is already saved on your machine. Run `huggingface-cli whoami` to get more information or `huggingface-cli logout` if you want to log out.\n",
      "    Setting a new token will erase the existing one.\n",
      "    To log in, `huggingface_hub` requires a token generated from https://huggingface.co/settings/tokens .\n",
      "Enter your token (input will not be visible): \n",
      "Add token as git credential? (Y/n) n\n",
      "Token is valid (permission: fineGrained).\n",
      "The token `notebook` has been saved to /root/.cache/huggingface/stored_tokens\n",
      "Your token has been saved to /root/.cache/huggingface/token\n",
      "Login successful.\n",
      "The current active token is: `notebook`\n"
     ]
    }
   ],
   "source": [
    "!huggingface-cli login"
   ]
  },
  {
   "cell_type": "markdown",
   "metadata": {
    "id": "yySrJXJWFbWM"
   },
   "source": [
    "# Running the evaluation"
   ]
  },
  {
   "cell_type": "markdown",
   "metadata": {
    "id": "K4LRmVwfFdwV"
   },
   "source": [
    "With the correct lm-evaluation-harness installed, the process of running on our benchmark is essentially the same as any other tasks as shown in the previous notebooks.\n",
    "\n",
    "Let's try running a small subset `mmlu_var5shots_stem` first."
   ]
  },
  {
   "cell_type": "code",
   "execution_count": null,
   "metadata": {
    "colab": {
     "base_uri": "https://localhost:8080/"
    },
    "id": "Dn7OJwpxAyW6",
    "outputId": "3bda26c3-d692-4e80-af81-dcebcd9af40a"
   },
   "outputs": [
    {
     "name": "stdout",
     "output_type": "stream",
     "text": [
      "ipex flag is deprecated, will be removed in Accelerate v1.10. From 2.7.0, PyTorch has all needed optimizations for Intel CPU and XPU.\n",
      "The following values were not passed to `accelerate launch` and had defaults used instead:\n",
      "\t`--num_processes` was set to a value of `1`\n",
      "\t`--num_machines` was set to a value of `1`\n",
      "\t`--mixed_precision` was set to a value of `'no'`\n",
      "\t`--dynamo_backend` was set to a value of `'no'`\n",
      "To avoid this warning pass in values for each of the problematic parameters or run `accelerate config`.\n",
      "2025-06-27 08:28:30.939719: E external/local_xla/xla/stream_executor/cuda/cuda_fft.cc:477] Unable to register cuFFT factory: Attempting to register factory for plugin cuFFT when one has already been registered\n",
      "WARNING: All log messages before absl::InitializeLog() is called are written to STDERR\n",
      "E0000 00:00:1751012910.959615    4992 cuda_dnn.cc:8310] Unable to register cuDNN factory: Attempting to register factory for plugin cuDNN when one has already been registered\n",
      "E0000 00:00:1751012910.965747    4992 cuda_blas.cc:1418] Unable to register cuBLAS factory: Attempting to register factory for plugin cuBLAS when one has already been registered\n",
      "2025-06-27 08:28:30.985766: I tensorflow/core/platform/cpu_feature_guard.cc:210] This TensorFlow binary is optimized to use available CPU instructions in performance-critical operations.\n",
      "To enable the following instructions: AVX2 FMA, in other operations, rebuild TensorFlow with the appropriate compiler flags.\n",
      "INFO:__main__:Selected Tasks: ['mmlu_var5shots_astronomy']\n",
      "INFO:lm_eval.evaluator:Setting random seed to 0 | Setting numpy seed to 1234 | Setting torch manual seed to 1234 | Setting fewshot manual seed to 1234\n",
      "INFO:lm_eval.evaluator:Initializing hf model, with arguments: {'pretrained': 'tiiuae/dense-500m-arch1', 'dtype': 'bfloat16', 'subfolder': 'iter_0004000'}\n",
      "INFO:lm_eval.models.huggingface:Using device 'cuda'\n",
      "INFO:lm_eval.models.huggingface:Model parallel was set to False, max memory was not set, and device map was set to {'': 'cuda'}\n",
      "INFO:lm_eval.api.task:Building contexts for mmlu_var5shots_astronomy on rank 0...\n",
      "100% 152/152 [00:01<00:00, 137.16it/s]\n",
      "INFO:lm_eval.evaluator:Running loglikelihood requests\n",
      "Running loglikelihood requests:   0% 0/608 [00:00<?, ?it/s]Passed argument batch_size = auto:1. Detecting largest batch size\n",
      "Determined largest batch size: 64\n",
      "Running loglikelihood requests: 100% 608/608 [01:43<00:00,  5.88it/s]\n",
      "fatal: not a git repository (or any of the parent directories): .git\n",
      "INFO:lm_eval.loggers.evaluation_tracker:Saving results aggregated\n",
      "hf (pretrained=tiiuae/dense-500m-arch1,dtype=bfloat16,subfolder=iter_0004000), gen_kwargs: (None), limit: None, num_fewshot: None, batch_size: auto (64)\n",
      "|  Tasks  |Version|Filter|n-shot| Metric |   |Value |   |Stderr|\n",
      "|---------|------:|------|-----:|--------|---|-----:|---|-----:|\n",
      "|astronomy|      1|none  |     5|acc     |↑  |0.2303|±  |0.0343|\n",
      "|         |       |none  |     5|acc_norm|↑  |0.3289|±  |0.0382|\n",
      "\n"
     ]
    }
   ],
   "source": [
    "!accelerate launch -m lm_eval --model hf \\\n",
    "    --model_args pretrained=tiiuae/dense-500m-arch1,dtype=bfloat16,subfolder=iter_0004000 \\\n",
    "    --tasks mmlu_var5shots_astronomy \\\n",
    "    --batch_size auto \\\n",
    "    --output_path results/"
   ]
  },
  {
   "cell_type": "markdown",
   "metadata": {
    "id": "j0YvEyraKffs"
   },
   "source": [
    "You can always check the logged results in the `results/` directory that we specified above."
   ]
  },
  {
   "cell_type": "code",
   "execution_count": null,
   "metadata": {
    "colab": {
     "base_uri": "https://localhost:8080/"
    },
    "id": "uLvmr-OSA6Is",
    "outputId": "283c2647-7bc3-487b-f59a-054e3f7f9e23"
   },
   "outputs": [
    {
     "name": "stdout",
     "output_type": "stream",
     "text": [
      "tiiuae__dense-500m-arch1\n"
     ]
    }
   ],
   "source": [
    "!ls results/"
   ]
  },
  {
   "cell_type": "markdown",
   "metadata": {
    "id": "4DSfruBxORiF"
   },
   "source": [
    "### Checkpoint 24k steps"
   ]
  },
  {
   "cell_type": "code",
   "execution_count": null,
   "metadata": {
    "colab": {
     "base_uri": "https://localhost:8080/"
    },
    "id": "qCc6y9UdOhjh",
    "outputId": "b855da75-38a7-4488-cf3c-0c36429cf5ee"
   },
   "outputs": [
    {
     "name": "stdout",
     "output_type": "stream",
     "text": [
      "ipex flag is deprecated, will be removed in Accelerate v1.10. From 2.7.0, PyTorch has all needed optimizations for Intel CPU and XPU.\n",
      "The following values were not passed to `accelerate launch` and had defaults used instead:\n",
      "\t`--num_processes` was set to a value of `1`\n",
      "\t`--num_machines` was set to a value of `1`\n",
      "\t`--mixed_precision` was set to a value of `'no'`\n",
      "\t`--dynamo_backend` was set to a value of `'no'`\n",
      "To avoid this warning pass in values for each of the problematic parameters or run `accelerate config`.\n",
      "2025-06-27 08:30:51.042937: E external/local_xla/xla/stream_executor/cuda/cuda_fft.cc:477] Unable to register cuFFT factory: Attempting to register factory for plugin cuFFT when one has already been registered\n",
      "WARNING: All log messages before absl::InitializeLog() is called are written to STDERR\n",
      "E0000 00:00:1751013051.062807    5650 cuda_dnn.cc:8310] Unable to register cuDNN factory: Attempting to register factory for plugin cuDNN when one has already been registered\n",
      "E0000 00:00:1751013051.068758    5650 cuda_blas.cc:1418] Unable to register cuBLAS factory: Attempting to register factory for plugin cuBLAS when one has already been registered\n",
      "2025-06-27 08:30:51.089304: I tensorflow/core/platform/cpu_feature_guard.cc:210] This TensorFlow binary is optimized to use available CPU instructions in performance-critical operations.\n",
      "To enable the following instructions: AVX2 FMA, in other operations, rebuild TensorFlow with the appropriate compiler flags.\n",
      "INFO:__main__:Selected Tasks: ['mmlu_var5shots_astronomy']\n",
      "INFO:lm_eval.evaluator:Setting random seed to 0 | Setting numpy seed to 1234 | Setting torch manual seed to 1234 | Setting fewshot manual seed to 1234\n",
      "INFO:lm_eval.evaluator:Initializing hf model, with arguments: {'pretrained': 'tiiuae/dense-500m-arch1', 'dtype': 'bfloat16', 'subfolder': 'iter_0024000'}\n",
      "INFO:lm_eval.models.huggingface:Using device 'cuda'\n",
      "INFO:lm_eval.models.huggingface:Model parallel was set to False, max memory was not set, and device map was set to {'': 'cuda'}\n",
      "model.safetensors: 100% 1.04G/1.04G [00:08<00:00, 125MB/s]\n",
      "INFO:lm_eval.api.task:Building contexts for mmlu_var5shots_astronomy on rank 0...\n",
      "100% 152/152 [00:01<00:00, 136.38it/s]\n",
      "INFO:lm_eval.evaluator:Running loglikelihood requests\n",
      "Running loglikelihood requests:   0% 0/608 [00:00<?, ?it/s]Passed argument batch_size = auto:1. Detecting largest batch size\n",
      "Determined largest batch size: 64\n",
      "Running loglikelihood requests: 100% 608/608 [01:43<00:00,  5.88it/s]\n",
      "fatal: not a git repository (or any of the parent directories): .git\n",
      "INFO:lm_eval.loggers.evaluation_tracker:Saving results aggregated\n",
      "hf (pretrained=tiiuae/dense-500m-arch1,dtype=bfloat16,subfolder=iter_0024000), gen_kwargs: (None), limit: None, num_fewshot: None, batch_size: auto (64)\n",
      "|  Tasks  |Version|Filter|n-shot| Metric |   |Value |   |Stderr|\n",
      "|---------|------:|------|-----:|--------|---|-----:|---|-----:|\n",
      "|astronomy|      1|none  |     5|acc     |↑  |0.2829|±  |0.0367|\n",
      "|         |       |none  |     5|acc_norm|↑  |0.3882|±  |0.0397|\n",
      "\n"
     ]
    }
   ],
   "source": [
    "!accelerate launch -m lm_eval --model hf \\\n",
    "    --model_args pretrained=tiiuae/dense-500m-arch1,dtype=bfloat16,subfolder=iter_0024000 \\\n",
    "    --tasks mmlu_var5shots_astronomy \\\n",
    "    --batch_size auto \\\n",
    "    --output_path results/"
   ]
  },
  {
   "cell_type": "markdown",
   "metadata": {
    "id": "79QW3zRtOpvY"
   },
   "source": [
    "# Checkpoints 44k steps\n"
   ]
  },
  {
   "cell_type": "code",
   "execution_count": null,
   "metadata": {
    "colab": {
     "base_uri": "https://localhost:8080/"
    },
    "id": "umYdzE5oOuzT",
    "outputId": "02e233e2-3e70-46d5-94f2-b326a740a5ad"
   },
   "outputs": [
    {
     "name": "stdout",
     "output_type": "stream",
     "text": [
      "ipex flag is deprecated, will be removed in Accelerate v1.10. From 2.7.0, PyTorch has all needed optimizations for Intel CPU and XPU.\n",
      "The following values were not passed to `accelerate launch` and had defaults used instead:\n",
      "\t`--num_processes` was set to a value of `1`\n",
      "\t`--num_machines` was set to a value of `1`\n",
      "\t`--mixed_precision` was set to a value of `'no'`\n",
      "\t`--dynamo_backend` was set to a value of `'no'`\n",
      "To avoid this warning pass in values for each of the problematic parameters or run `accelerate config`.\n",
      "2025-06-27 08:33:21.575058: E external/local_xla/xla/stream_executor/cuda/cuda_fft.cc:477] Unable to register cuFFT factory: Attempting to register factory for plugin cuFFT when one has already been registered\n",
      "WARNING: All log messages before absl::InitializeLog() is called are written to STDERR\n",
      "E0000 00:00:1751013201.595456    6507 cuda_dnn.cc:8310] Unable to register cuDNN factory: Attempting to register factory for plugin cuDNN when one has already been registered\n",
      "E0000 00:00:1751013201.601621    6507 cuda_blas.cc:1418] Unable to register cuBLAS factory: Attempting to register factory for plugin cuBLAS when one has already been registered\n",
      "2025-06-27 08:33:21.622078: I tensorflow/core/platform/cpu_feature_guard.cc:210] This TensorFlow binary is optimized to use available CPU instructions in performance-critical operations.\n",
      "To enable the following instructions: AVX2 FMA, in other operations, rebuild TensorFlow with the appropriate compiler flags.\n",
      "INFO:__main__:Selected Tasks: ['mmlu_var5shots_astronomy']\n",
      "INFO:lm_eval.evaluator:Setting random seed to 0 | Setting numpy seed to 1234 | Setting torch manual seed to 1234 | Setting fewshot manual seed to 1234\n",
      "INFO:lm_eval.evaluator:Initializing hf model, with arguments: {'pretrained': 'tiiuae/dense-500m-arch1', 'dtype': 'bfloat16', 'subfolder': 'iter_0042000'}\n",
      "INFO:lm_eval.models.huggingface:Using device 'cuda'\n",
      "INFO:lm_eval.models.huggingface:Model parallel was set to False, max memory was not set, and device map was set to {'': 'cuda'}\n",
      "model.safetensors: 100% 1.04G/1.04G [00:09<00:00, 110MB/s]\n",
      "INFO:lm_eval.api.task:Building contexts for mmlu_var5shots_astronomy on rank 0...\n",
      "100% 152/152 [00:01<00:00, 134.61it/s]\n",
      "INFO:lm_eval.evaluator:Running loglikelihood requests\n",
      "Running loglikelihood requests:   0% 0/608 [00:00<?, ?it/s]Passed argument batch_size = auto:1. Detecting largest batch size\n",
      "Determined largest batch size: 64\n",
      "Running loglikelihood requests: 100% 608/608 [01:43<00:00,  5.88it/s]\n",
      "fatal: not a git repository (or any of the parent directories): .git\n",
      "INFO:lm_eval.loggers.evaluation_tracker:Saving results aggregated\n",
      "hf (pretrained=tiiuae/dense-500m-arch1,dtype=bfloat16,subfolder=iter_0042000), gen_kwargs: (None), limit: None, num_fewshot: None, batch_size: auto (64)\n",
      "|  Tasks  |Version|Filter|n-shot| Metric |   |Value |   |Stderr|\n",
      "|---------|------:|------|-----:|--------|---|-----:|---|-----:|\n",
      "|astronomy|      1|none  |     5|acc     |↑  |0.3158|±  |0.0378|\n",
      "|         |       |none  |     5|acc_norm|↑  |0.4145|±  |0.0401|\n",
      "\n"
     ]
    }
   ],
   "source": [
    "!accelerate launch -m lm_eval --model hf \\\n",
    "    --model_args pretrained=tiiuae/dense-500m-arch1,dtype=bfloat16,subfolder=iter_0042000 \\\n",
    "    --tasks mmlu_var5shots_astronomy \\\n",
    "    --batch_size auto \\\n",
    "    --output_path results/"
   ]
  },
  {
   "cell_type": "markdown",
   "metadata": {
    "id": "xigcJwRoO1x-"
   },
   "source": [
    "# Gathering results and plots their performance"
   ]
  },
  {
   "cell_type": "code",
   "execution_count": null,
   "metadata": {
    "id": "I_oIcU-RO5wz"
   },
   "outputs": [],
   "source": [
    "from pathlib import Path\n",
    "import json\n",
    "\n",
    "results = []\n",
    "for json_file in sorted(Path(\"results/\").glob(\"**/*.json\")):\n",
    "    with json_file.open() as f:\n",
    "        results.append(json.load(f))"
   ]
  },
  {
   "cell_type": "code",
   "execution_count": null,
   "metadata": {
    "colab": {
     "base_uri": "https://localhost:8080/",
     "height": 627
    },
    "id": "1EEMx_8NQWnp",
    "outputId": "04fe7f76-528e-462d-e9d7-ed2cdb2ad0c3"
   },
   "outputs": [
    {
     "data": {
      "image/png": "[encoded data removed]",
      "text/plain": [
       "<Figure size 1000x600 with 1 Axes>"
      ]
     },
     "metadata": {},
     "output_type": "display_data"
    }
   ],
   "source": [
    "import matplotlib.pyplot as plt\n",
    "import numpy as np\n",
    "\n",
    "# Assuming you have your data in a variable called 'results'\n",
    "# Let's extract the relevant information for plotting\n",
    "\n",
    "# Lists to store the checkpoint steps and corresponding accuracies\n",
    "steps = []\n",
    "accuracies = []\n",
    "accuracies_norm = []\n",
    "error_bars = []\n",
    "error_bars_norm = []\n",
    "\n",
    "# Extract data from the results list\n",
    "for checkpoint_data in results:\n",
    "    step = checkpoint_data[\"configs\"][\"mmlu_var5shots_astronomy\"][\"metadata\"][\"subfolder\"]\n",
    "    steps.append(step)\n",
    "\n",
    "    # Extract the accuracy data\n",
    "    result_data = list(checkpoint_data['results'].values())[0]  # Get the first (and only) subject\n",
    "    accuracies.append(result_data['acc,none'])\n",
    "    accuracies_norm.append(result_data['acc_norm,none'])\n",
    "    error_bars.append(result_data['acc_stderr,none'])\n",
    "    error_bars_norm.append(result_data['acc_norm_stderr,none'])\n",
    "\n",
    "# Create a figure and axis\n",
    "fig, ax = plt.subplots(figsize=(10, 6))\n",
    "\n",
    "# Plot both regular and normalized accuracy\n",
    "ax.errorbar(steps, accuracies, yerr=error_bars, fmt='o-', label='Regular Accuracy')\n",
    "ax.errorbar(steps, accuracies_norm, yerr=error_bars_norm, fmt='s-', label='Normalized Accuracy')\n",
    "\n",
    "# Add labels and title\n",
    "ax.set_xlabel('Checkpoint Step')\n",
    "ax.set_ylabel('Accuracy')\n",
    "ax.set_title('MMLU Astronomy Accuracy by Checkpoint Step')\n",
    "ax.legend()\n",
    "ax.grid(True, alpha=0.3)\n",
    "\n",
    "# If steps are not evenly spaced, you might want to adjust x-ticks\n",
    "if len(steps) > 0:\n",
    "    plt.xticks(steps)\n",
    "\n",
    "# Show the plot\n",
    "plt.tight_layout()\n",
    "plt.show()\n",
    "\n",
    "# You can also save the plot\n",
    "# plt.savefig('mmlu_astronomy_accuracy.png', dpi=300)"
   ]
  },
  {
   "cell_type": "markdown",
   "metadata": {
    "id": "eKQl-aIDJrzb"
   },
   "source": [
    "# Going further"
   ]
  },
  {
   "cell_type": "markdown",
   "metadata": {
    "id": "M5LZhuFoKI5x"
   },
   "source": [
    "This notebook demonstrates how we can easily launch a custom evaluation tasks and analyze its results.\n",
    "\n",
    "In the next notebook, we will show you how to create such a custom benchmark in the lm-evaluation-harness framework."
   ]
  }
 ],
 "metadata": {
  "accelerator": "GPU",
  "colab": {
   "gpuType": "T4",
   "provenance": []
  },
  "kernelspec": {
   "display_name": "Python 3 (ipykernel)",
   "language": "python",
   "name": "python3"
  },
  "language_info": {
   "codemirror_mode": {
    "name": "ipython",
    "version": 3
   },
   "file_extension": ".py",
   "mimetype": "text/x-python",
   "name": "python",
   "nbconvert_exporter": "python",
   "pygments_lexer": "ipython3",
   "version": "3.13.3"
  }
 },
 "nbformat": 4,
 "nbformat_minor": 4
}
